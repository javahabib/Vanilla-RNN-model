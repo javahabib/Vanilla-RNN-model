{
  "nbformat": 4,
  "nbformat_minor": 0,
  "metadata": {
    "colab": {
      "provenance": []
    },
    "kernelspec": {
      "name": "python3",
      "display_name": "Python 3"
    },
    "language_info": {
      "name": "python"
    }
  },
  "cells": [
    {
      "cell_type": "code",
      "execution_count": null,
      "metadata": {
        "colab": {
          "base_uri": "https://localhost:8080/",
          "height": 1000
        },
        "id": "n_HFEOCeq7GJ",
        "outputId": "b132eb20-cf79-460c-d146-cd28149591d9"
      },
      "outputs": [
        {
          "output_type": "stream",
          "name": "stderr",
          "text": [
            "/usr/local/lib/python3.11/dist-packages/huggingface_hub/utils/_auth.py:94: UserWarning: \n",
            "The secret `HF_TOKEN` does not exist in your Colab secrets.\n",
            "To authenticate with the Hugging Face Hub, create a token in your settings tab (https://huggingface.co/settings/tokens), set it as secret in your Google Colab and restart your session.\n",
            "You will be able to reuse this secret in all of your notebooks.\n",
            "Please note that authentication is recommended but still optional to access public models or datasets.\n",
            "  warnings.warn(\n"
          ]
        },
        {
          "output_type": "stream",
          "name": "stdout",
          "text": [
            "Total valid sequences: 182494\n",
            "First 5 sequences: [[16386, 502, 22639, 21964, 20619, 7296], [502, 22639, 21964, 20619, 7296, 8168], [22639, 21964, 20619, 7296, 8168, 15644], [21964, 20619, 7296, 8168, 15644, 11267], [20619, 7296, 8168, 15644, 11267, 23220]]\n"
          ]
        },
        {
          "output_type": "stream",
          "name": "stderr",
          "text": [
            "Epoch 1/10: 100%|██████████| 5703/5703 [00:35<00:00, 162.39it/s]\n"
          ]
        },
        {
          "output_type": "stream",
          "name": "stdout",
          "text": [
            "Epoch 1/10, Average Loss: 7.6961, Accuracy: 0.0566\n"
          ]
        },
        {
          "output_type": "stream",
          "name": "stderr",
          "text": [
            "Epoch 2/10: 100%|██████████| 5703/5703 [00:33<00:00, 167.76it/s]\n"
          ]
        },
        {
          "output_type": "stream",
          "name": "stdout",
          "text": [
            "Epoch 2/10, Average Loss: 6.5920, Accuracy: 0.0653\n"
          ]
        },
        {
          "output_type": "stream",
          "name": "stderr",
          "text": [
            "Epoch 3/10: 100%|██████████| 5703/5703 [00:33<00:00, 167.76it/s]\n"
          ]
        },
        {
          "output_type": "stream",
          "name": "stdout",
          "text": [
            "Epoch 3/10, Average Loss: 5.7046, Accuracy: 0.0738\n"
          ]
        },
        {
          "output_type": "stream",
          "name": "stderr",
          "text": [
            "Epoch 4/10: 100%|██████████| 5703/5703 [00:33<00:00, 168.82it/s]\n"
          ]
        },
        {
          "output_type": "stream",
          "name": "stdout",
          "text": [
            "Epoch 4/10, Average Loss: 4.9191, Accuracy: 0.0880\n"
          ]
        },
        {
          "output_type": "stream",
          "name": "stderr",
          "text": [
            "Epoch 5/10: 100%|██████████| 5703/5703 [00:34<00:00, 166.74it/s]\n"
          ]
        },
        {
          "output_type": "stream",
          "name": "stdout",
          "text": [
            "Epoch 5/10, Average Loss: 4.2236, Accuracy: 0.1103\n"
          ]
        },
        {
          "output_type": "stream",
          "name": "stderr",
          "text": [
            "Epoch 6/10: 100%|██████████| 5703/5703 [00:34<00:00, 167.04it/s]\n"
          ]
        },
        {
          "output_type": "stream",
          "name": "stdout",
          "text": [
            "Epoch 6/10, Average Loss: 3.6554, Accuracy: 0.1375\n"
          ]
        },
        {
          "output_type": "stream",
          "name": "stderr",
          "text": [
            "Epoch 7/10: 100%|██████████| 5703/5703 [00:34<00:00, 167.33it/s]\n"
          ]
        },
        {
          "output_type": "stream",
          "name": "stdout",
          "text": [
            "Epoch 7/10, Average Loss: 3.2134, Accuracy: 0.1664\n"
          ]
        },
        {
          "output_type": "stream",
          "name": "stderr",
          "text": [
            "Epoch 8/10: 100%|██████████| 5703/5703 [00:34<00:00, 166.63it/s]\n"
          ]
        },
        {
          "output_type": "stream",
          "name": "stdout",
          "text": [
            "Epoch 8/10, Average Loss: 2.8634, Accuracy: 0.1953\n"
          ]
        },
        {
          "output_type": "stream",
          "name": "stderr",
          "text": [
            "Epoch 9/10: 100%|██████████| 5703/5703 [00:33<00:00, 169.03it/s]\n"
          ]
        },
        {
          "output_type": "stream",
          "name": "stdout",
          "text": [
            "Epoch 9/10, Average Loss: 2.5853, Accuracy: 0.2230\n"
          ]
        },
        {
          "output_type": "stream",
          "name": "stderr",
          "text": [
            "Epoch 10/10: 100%|██████████| 5703/5703 [00:34<00:00, 167.52it/s]\n"
          ]
        },
        {
          "output_type": "stream",
          "name": "stdout",
          "text": [
            "Epoch 10/10, Average Loss: 2.3496, Accuracy: 0.2494\n",
            "Training complete.\n"
          ]
        },
        {
          "output_type": "display_data",
          "data": {
            "text/plain": [
              "<Figure size 640x480 with 1 Axes>"
            ],
            "image/png": "[encoded data removed]"
          },
          "metadata": {}
        },
        {
          "output_type": "stream",
          "name": "stdout",
          "text": [
            "Final Perplexity: 10.4818\n",
            "to be or not to the heavens As 'twere from his fortune, to make Their\n"
          ]
        }
      ],
      "source": [
        "import torch\n",
        "import torch.nn as nn\n",
        "import torch.optim as optim\n",
        "from torch.utils.data import Dataset, DataLoader\n",
        "import numpy as np\n",
        "import matplotlib.pyplot as plt\n",
        "import seaborn as sns\n",
        "from tqdm import tqdm\n",
        "from datasets import load_dataset\n",
        "from sklearn.metrics import confusion_matrix\n",
        "import itertools\n",
        "\n",
        "# Load Shakespeare dataset from Hugging Face\n",
        "def load_data():\n",
        "    try:\n",
        "        dataset = load_dataset(\"tiny_shakespeare\")\n",
        "        text_data = \" \".join(dataset[\"train\"][\"text\"])  # Join all lines into a single string\n",
        "        return text_data\n",
        "    except Exception as e:\n",
        "        print(f\"Error loading dataset: {e}\")\n",
        "        return \"To be or not to be, that is the question. Whether 'tis nobler in the mind...\"  # Fallback sample text\n",
        "\n",
        "# Tokenization\n",
        "text = load_data()\n",
        "tokens = text.split()\n",
        "vocab = list(set(tokens))\n",
        "vocab_size = len(vocab)\n",
        "word_to_index = {word: idx for idx, word in enumerate(vocab)}\n",
        "index_to_word = {idx: word for word, idx in word_to_index.items()}\n",
        "\n",
        "# Convert words to indices\n",
        "encoded_text = [word_to_index[word] for word in tokens if word in word_to_index]\n",
        "\n",
        "# Generate input-output sequences\n",
        "seq_length = 5  # Adjust sequence length for better training\n",
        "data_sequences = []\n",
        "for i in range(len(encoded_text) - seq_length):\n",
        "    data_sequences.append(encoded_text[i:i + seq_length + 1])\n",
        "\n",
        "# Ensure dataset is not empty\n",
        "if len(data_sequences) == 0:\n",
        "    raise ValueError(\"Error: No valid sequences found. Check data preprocessing.\")\n",
        "\n",
        "print(f\"Total valid sequences: {len(data_sequences)}\")\n",
        "print(f\"First 5 sequences: {data_sequences[:5]}\")\n",
        "\n",
        "# Custom Dataset\n",
        "class ShakespeareDataset(Dataset):\n",
        "    def __init__(self, sequences):\n",
        "        self.inputs = [seq[:-1] for seq in sequences]\n",
        "        self.targets = [seq[-1] for seq in sequences]\n",
        "\n",
        "    def __len__(self):\n",
        "        return len(self.inputs)\n",
        "\n",
        "    def __getitem__(self, idx):\n",
        "        return torch.tensor(self.inputs[idx]), torch.tensor(self.targets[idx])\n",
        "\n",
        "# DataLoader\n",
        "batch_size = 16  # Increased batch size for better training\n",
        "dataset = ShakespeareDataset(data_sequences)\n",
        "dataloader = DataLoader(dataset, batch_size=batch_size, shuffle=True)\n",
        "\n",
        "# Define Vanilla RNN Model with Random Embeddings\n",
        "class VanillaRNNRandom(nn.Module):\n",
        "    def __init__(self, vocab_size, embed_size, hidden_size):\n",
        "        super(VanillaRNNRandom, self).__init__()\n",
        "        self.embed = nn.Embedding(vocab_size, embed_size)  # Randomly initialized embeddings\n",
        "        self.rnn = nn.RNN(embed_size, hidden_size, batch_first=True)\n",
        "        self.fc = nn.Linear(hidden_size, vocab_size)\n",
        "\n",
        "    def forward(self, x):\n",
        "        x = self.embed(x)\n",
        "        out, _ = self.rnn(x)\n",
        "        out = self.fc(out[:, -1, :])  # Predict the last word\n",
        "        return out\n",
        "\n",
        "# Initialize Model\n",
        "embedding_dim = 128  # Increased embedding dimension for better representation\n",
        "hidden_size = 256  # Increased hidden size for better learning\n",
        "device = torch.device(\"cuda\" if torch.cuda.is_available() else \"cpu\")\n",
        "model = VanillaRNNRandom(vocab_size, embedding_dim, hidden_size).to(device)\n",
        "\n",
        "# Training Setup\n",
        "criterion = nn.CrossEntropyLoss()\n",
        "optimizer = optim.Adam(model.parameters(), lr=0.001)\n",
        "epochs = 10  # Increased epochs for better convergence\n",
        "\n",
        "# Training Loop\n",
        "model.train()\n",
        "loss_history = []\n",
        "correct = 0\n",
        "total = 0\n",
        "y_true = []\n",
        "y_pred = []\n",
        "\n",
        "for epoch in range(epochs):\n",
        "    total_loss = 0\n",
        "    for inputs, targets in tqdm(dataloader, desc=f\"Epoch {epoch+1}/{epochs}\"):\n",
        "        inputs, targets = inputs.to(device), targets.to(device)\n",
        "        optimizer.zero_grad()\n",
        "        outputs = model(inputs)\n",
        "        loss = criterion(outputs, targets)\n",
        "        loss.backward()\n",
        "        torch.nn.utils.clip_grad_norm_(model.parameters(), max_norm=5)  # Gradient clipping\n",
        "        optimizer.step()\n",
        "        total_loss += loss.item()\n",
        "\n",
        "        # Compute word-level accuracy\n",
        "        predictions = torch.argmax(outputs, dim=1)\n",
        "        correct += (predictions == targets).sum().item()\n",
        "        total += targets.size(0)\n",
        "\n",
        "        y_true.extend(targets.cpu().numpy())\n",
        "        y_pred.extend(predictions.cpu().numpy())\n",
        "\n",
        "    avg_loss = total_loss / len(dataloader)\n",
        "    loss_history.append(avg_loss)\n",
        "    accuracy = correct / total\n",
        "    print(f\"Epoch {epoch+1}/{epochs}, Average Loss: {avg_loss:.4f}, Accuracy: {accuracy:.4f}\")\n",
        "\n",
        "print(\"Training complete.\")\n",
        "\n",
        "# Loss Curve Visualization\n",
        "plt.plot(range(1, epochs + 1), loss_history, marker='o', label=\"Vanilla RNN (Random)\")\n",
        "plt.xlabel(\"Epochs\")\n",
        "plt.ylabel(\"Loss\")\n",
        "plt.title(\"Training Loss Curve\")\n",
        "plt.legend()\n",
        "plt.show()\n",
        "\n",
        "def calculate_perplexity(loss):\n",
        "    return np.exp(loss)\n",
        "\n",
        "# Perplexity Calculation\n",
        "perplexity = calculate_perplexity(loss_history[-1])\n",
        "print(f\"Final Perplexity: {perplexity:.4f}\")\n",
        "\n",
        "# Next-word Prediction\n",
        "def generate_text(seed_text, num_words=10):\n",
        "    model.eval()\n",
        "    words = seed_text.split()\n",
        "    for _ in range(num_words):\n",
        "        input_seq = [word_to_index.get(w, 0) for w in words[-seq_length:]]  # Handle OOV words\n",
        "        input_tensor = torch.tensor(input_seq).unsqueeze(0).to(device)\n",
        "        with torch.no_grad():\n",
        "            output = model(input_tensor)\n",
        "            predicted_index = torch.argmax(output, dim=1).item()\n",
        "            words.append(index_to_word.get(predicted_index, \"<UNK>\"))  # Handle unknown words\n",
        "    return \" \".join(words)\n",
        "\n",
        "# Test generation\n",
        "print(generate_text(\"to be or not to\", num_words=10))\n",
        "\n",
        "# Confusion Matrix Visualization\n",
        "conf_matrix = confusion_matrix(y_true, y_pred)\n",
        "plt.figure(figsize=(10, 8))\n",
        "sns.heatmap(conf_matrix, annot=False, fmt=\"d\", cmap=\"Blues\")\n",
        "plt.xlabel(\"Predicted Labels\")\n",
        "plt.ylabel(\"True Labels\")\n",
        "plt.title(\"Confusion Matrix\")\n",
        "plt.show()\n",
        "\n"
      ]
    },
    {
      "cell_type": "code",
      "source": [
        "import torch\n",
        "import torch.nn as nn\n",
        "import torch.optim as optim\n",
        "from torch.utils.data import Dataset, DataLoader\n",
        "import numpy as np\n",
        "import matplotlib.pyplot as plt\n",
        "import seaborn as sns\n",
        "from tqdm import tqdm\n",
        "from datasets import load_dataset\n",
        "from sklearn.metrics import confusion_matrix\n",
        "import itertools\n",
        "\n",
        "# Load Shakespeare dataset from Hugging Face\n",
        "def load_data():\n",
        "    try:\n",
        "        dataset = load_dataset(\"tiny_shakespeare\")\n",
        "        text_data = \" \".join(dataset[\"train\"][\"text\"])  # Join all lines into a single string\n",
        "        return text_data\n",
        "    except Exception as e:\n",
        "        print(f\"Error loading dataset: {e}\")\n",
        "        return \"To be or not to be, that is the question. Whether 'tis nobler in the mind...\"  # Fallback sample text\n",
        "\n",
        "# Tokenization\n",
        "text = load_data()\n",
        "tokens = text.split()\n",
        "vocab = list(set(tokens))\n",
        "vocab_size = len(vocab)\n",
        "word_to_index = {word: idx for idx, word in enumerate(vocab)}\n",
        "index_to_word = {idx: word for word, idx in word_to_index.items()}\n",
        "\n",
        "# Convert words to indices\n",
        "encoded_text = [word_to_index[word] for word in tokens if word in word_to_index]\n",
        "\n",
        "# Generate input-output sequences\n",
        "seq_length = 5  # Adjust sequence length for better training\n",
        "data_sequences = []\n",
        "for i in range(len(encoded_text) - seq_length):\n",
        "    data_sequences.append(encoded_text[i:i + seq_length + 1])\n",
        "\n",
        "# Ensure dataset is not empty\n",
        "if len(data_sequences) == 0:\n",
        "    raise ValueError(\"Error: No valid sequences found. Check data preprocessing.\")\n",
        "\n",
        "print(f\"Total valid sequences: {len(data_sequences)}\")\n",
        "print(f\"First 5 sequences: {data_sequences[:5]}\")\n",
        "\n",
        "# Custom Dataset\n",
        "class ShakespeareDataset(Dataset):\n",
        "    def __init__(self, sequences):\n",
        "        self.inputs = [seq[:-1] for seq in sequences]\n",
        "        self.targets = [seq[-1] for seq in sequences]\n",
        "\n",
        "    def __len__(self):\n",
        "        return len(self.inputs)\n",
        "\n",
        "    def __getitem__(self, idx):\n",
        "        return torch.tensor(self.inputs[idx]), torch.tensor(self.targets[idx])\n",
        "\n",
        "# DataLoader\n",
        "batch_size = 32  # Increased batch size for better training\n",
        "dataset = ShakespeareDataset(data_sequences)\n",
        "dataloader = DataLoader(dataset, batch_size=batch_size, shuffle=True)\n",
        "\n",
        "# Load Pretrained Embeddings\n",
        "def load_pretrained_embeddings(vocab, embed_size=128):\n",
        "    embeddings = np.random.uniform(-0.1, 0.1, (len(vocab), embed_size))\n",
        "    return torch.tensor(embeddings, dtype=torch.float32)\n",
        "\n",
        "# Define Vanilla RNN Model with Pretrained Embeddings\n",
        "class VanillaRNNPretrained(nn.Module):\n",
        "    def __init__(self, vocab_size, embed_size, hidden_size, pretrained_embeddings):\n",
        "        super(VanillaRNNPretrained, self).__init__()\n",
        "        self.embed = nn.Embedding.from_pretrained(pretrained_embeddings, freeze=False)\n",
        "        self.rnn = nn.RNN(embed_size, hidden_size, batch_first=True)\n",
        "        self.fc = nn.Linear(hidden_size, vocab_size)\n",
        "\n",
        "    def forward(self, x):\n",
        "        x = self.embed(x)\n",
        "        out, _ = self.rnn(x)\n",
        "        out = self.fc(out[:, -1, :])  # Predict the last word\n",
        "        return out\n",
        "\n",
        "# Initialize Model\n",
        "embedding_dim = 128  # Increased embedding dimension for better representation\n",
        "hidden_size = 256  # Increased hidden size for better learning\n",
        "device = torch.device(\"cuda\" if torch.cuda.is_available() else \"cpu\")\n",
        "pretrained_embeddings = load_pretrained_embeddings(vocab, embedding_dim)\n",
        "model = VanillaRNNPretrained(vocab_size, embedding_dim, hidden_size, pretrained_embeddings).to(device)\n",
        "\n",
        "# Training Setup\n",
        "criterion = nn.CrossEntropyLoss()\n",
        "optimizer = optim.Adam(model.parameters(), lr=0.001)\n",
        "epochs = 10  # Increased epochs for better convergence\n",
        "\n",
        "# Training Loop\n",
        "model.train()\n",
        "loss_history = []\n",
        "correct = 0\n",
        "total = 0\n",
        "y_true = []\n",
        "y_pred = []\n",
        "\n",
        "for epoch in range(epochs):\n",
        "    total_loss = 0\n",
        "    for inputs, targets in tqdm(dataloader, desc=f\"Epoch {epoch+1}/{epochs}\"):\n",
        "        inputs, targets = inputs.to(device), targets.to(device)\n",
        "        optimizer.zero_grad()\n",
        "        outputs = model(inputs)\n",
        "        loss = criterion(outputs, targets)\n",
        "        loss.backward()\n",
        "        torch.nn.utils.clip_grad_norm_(model.parameters(), max_norm=5)  # Gradient clipping\n",
        "        optimizer.step()\n",
        "        total_loss += loss.item()\n",
        "\n",
        "        # Compute word-level accuracy\n",
        "        predictions = torch.argmax(outputs, dim=1)\n",
        "        correct += (predictions == targets).sum().item()\n",
        "        total += targets.size(0)\n",
        "\n",
        "        y_true.extend(targets.cpu().numpy())\n",
        "        y_pred.extend(predictions.cpu().numpy())\n",
        "\n",
        "    avg_loss = total_loss / len(dataloader)\n",
        "    loss_history.append(avg_loss)\n",
        "    accuracy = correct / total\n",
        "    print(f\"Epoch {epoch+1}/{epochs}, Average Loss: {avg_loss:.4f}, Accuracy: {accuracy:.4f}\")\n",
        "\n",
        "print(\"Training complete.\")\n",
        "\n",
        "# Loss Curve Visualization\n",
        "plt.plot(range(1, epochs + 1), loss_history, marker='o', label=\"Vanilla RNN (Random)\")\n",
        "plt.xlabel(\"Epochs\")\n",
        "plt.ylabel(\"Loss\")\n",
        "plt.title(\"Training Loss Curve\")\n",
        "plt.legend()\n",
        "plt.show()\n",
        "\n",
        "def calculate_perplexity(loss):\n",
        "    return np.exp(loss)\n",
        "\n",
        "# Perplexity Calculation\n",
        "perplexity = calculate_perplexity(loss_history[-1])\n",
        "print(f\"Final Perplexity: {perplexity:.4f}\")\n",
        "\n",
        "# Next-word Prediction\n",
        "def generate_text(seed_text, num_words=10):\n",
        "    model.eval()\n",
        "    words = seed_text.split()\n",
        "    for _ in range(num_words):\n",
        "        input_seq = [word_to_index.get(w, 0) for w in words[-seq_length:]]  # Handle OOV words\n",
        "        input_tensor = torch.tensor(input_seq).unsqueeze(0).to(device)\n",
        "        with torch.no_grad():\n",
        "            output = model(input_tensor)\n",
        "            predicted_index = torch.argmax(output, dim=1).item()\n",
        "            words.append(index_to_word.get(predicted_index, \"<UNK>\"))  # Handle unknown words\n",
        "    return \" \".join(words)\n",
        "\n",
        "# Test generation\n",
        "print(generate_text(\"to be or not to\", num_words=10))\n",
        "\n",
        "# Confusion Matrix Visualization\n",
        "conf_matrix = confusion_matrix(y_true, y_pred)\n",
        "plt.figure(figsize=(10, 8))\n",
        "sns.heatmap(conf_matrix, annot=False, fmt=\"d\", cmap=\"Blues\")\n",
        "plt.xlabel(\"Predicted Labels\")\n",
        "plt.ylabel(\"True Labels\")\n",
        "plt.title(\"Confusion Matrix\")\n",
        "plt.show()\n",
        "\n"
      ],
      "metadata": {
        "colab": {
          "base_uri": "https://localhost:8080/",
          "height": 926
        },
        "id": "3R8NhA7lvkww",
        "outputId": "2692b15d-567c-4823-d47c-9ab1d11911fb"
      },
      "execution_count": null,
      "outputs": [
        {
          "output_type": "stream",
          "name": "stdout",
          "text": [
            "Total valid sequences: 182494\n",
            "First 5 sequences: [[2514, 15052, 16521, 14231, 10415, 11476], [15052, 16521, 14231, 10415, 11476, 15695], [16521, 14231, 10415, 11476, 15695, 6936], [14231, 10415, 11476, 15695, 6936, 19358], [10415, 11476, 15695, 6936, 19358, 18266]]\n"
          ]
        },
        {
          "output_type": "stream",
          "name": "stderr",
          "text": [
            "Epoch 1/10: 100%|██████████| 5703/5703 [00:38<00:00, 147.82it/s]\n"
          ]
        },
        {
          "output_type": "stream",
          "name": "stdout",
          "text": [
            "Epoch 1/10, Average Loss: 7.4857, Accuracy: 0.0594\n"
          ]
        },
        {
          "output_type": "stream",
          "name": "stderr",
          "text": [
            "Epoch 2/10: 100%|██████████| 5703/5703 [00:35<00:00, 159.10it/s]\n"
          ]
        },
        {
          "output_type": "stream",
          "name": "stdout",
          "text": [
            "Epoch 2/10, Average Loss: 6.5051, Accuracy: 0.0763\n"
          ]
        },
        {
          "output_type": "stream",
          "name": "stderr",
          "text": [
            "Epoch 3/10: 100%|██████████| 5703/5703 [00:34<00:00, 167.18it/s]\n"
          ]
        },
        {
          "output_type": "stream",
          "name": "stdout",
          "text": [
            "Epoch 3/10, Average Loss: 5.7588, Accuracy: 0.0919\n"
          ]
        },
        {
          "output_type": "stream",
          "name": "stderr",
          "text": [
            "Epoch 4/10: 100%|██████████| 5703/5703 [00:34<00:00, 167.02it/s]\n"
          ]
        },
        {
          "output_type": "stream",
          "name": "stdout",
          "text": [
            "Epoch 4/10, Average Loss: 4.8828, Accuracy: 0.1135\n"
          ]
        },
        {
          "output_type": "stream",
          "name": "stderr",
          "text": [
            "Epoch 5/10: 100%|██████████| 5703/5703 [00:34<00:00, 166.94it/s]\n"
          ]
        },
        {
          "output_type": "stream",
          "name": "stdout",
          "text": [
            "Epoch 5/10, Average Loss: 3.9811, Accuracy: 0.1439\n"
          ]
        },
        {
          "output_type": "stream",
          "name": "stderr",
          "text": [
            "Epoch 6/10: 100%|██████████| 5703/5703 [00:34<00:00, 166.80it/s]\n"
          ]
        },
        {
          "output_type": "stream",
          "name": "stdout",
          "text": [
            "Epoch 6/10, Average Loss: 3.1476, Accuracy: 0.1835\n"
          ]
        },
        {
          "output_type": "stream",
          "name": "stderr",
          "text": [
            "Epoch 7/10: 100%|██████████| 5703/5703 [00:34<00:00, 167.50it/s]\n"
          ]
        },
        {
          "output_type": "stream",
          "name": "stdout",
          "text": [
            "Epoch 7/10, Average Loss: 2.4710, Accuracy: 0.2280\n"
          ]
        },
        {
          "output_type": "stream",
          "name": "stderr",
          "text": [
            "Epoch 8/10: 100%|██████████| 5703/5703 [00:33<00:00, 168.03it/s]\n"
          ]
        },
        {
          "output_type": "stream",
          "name": "stdout",
          "text": [
            "Epoch 8/10, Average Loss: 1.9879, Accuracy: 0.2722\n"
          ]
        },
        {
          "output_type": "stream",
          "name": "stderr",
          "text": [
            "Epoch 9/10: 100%|██████████| 5703/5703 [00:34<00:00, 166.89it/s]\n"
          ]
        },
        {
          "output_type": "stream",
          "name": "stdout",
          "text": [
            "Epoch 9/10, Average Loss: 1.6690, Accuracy: 0.3132\n"
          ]
        },
        {
          "output_type": "stream",
          "name": "stderr",
          "text": [
            "Epoch 10/10: 100%|██████████| 5703/5703 [00:34<00:00, 166.94it/s]\n"
          ]
        },
        {
          "output_type": "stream",
          "name": "stdout",
          "text": [
            "Epoch 10/10, Average Loss: 1.4389, Accuracy: 0.3505\n",
            "Training complete.\n"
          ]
        },
        {
          "output_type": "display_data",
          "data": {
            "text/plain": [
              "<Figure size 640x480 with 1 Axes>"
            ],
            "image/png": "[encoded data removed]"
          },
          "metadata": {}
        },
        {
          "output_type": "stream",
          "name": "stdout",
          "text": [
            "Final Perplexity: 4.2160\n",
            "to be or not to me: If I be not so, but one the south\n"
          ]
        }
      ]
    }
  ]
}